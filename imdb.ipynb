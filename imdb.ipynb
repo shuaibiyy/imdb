{
 "cells": [
  {
   "cell_type": "code",
   "execution_count": 181,
   "metadata": {},
   "outputs": [],
   "source": [
    "%matplotlib inline\n",
    "\n",
    "import pandas as pd\n",
    "import numpy as np\n",
    "import matplotlib\n",
    "import matplotlib.pyplot as plt\n",
    "import matplotlib.ticker as ticker\n",
    "import seaborn as sns\n",
    "from statsmodels.graphics.mosaicplot import mosaic\n",
    "\n",
    "sns.set(color_codes=True)\n",
    "sns.set(rc={'figure.figsize':(11.7,8.27)})"
   ]
  },
  {
   "cell_type": "markdown",
   "metadata": {},
   "source": [
    "Load the TSV file containing information about titles:"
   ]
  },
  {
   "cell_type": "code",
   "execution_count": 182,
   "metadata": {},
   "outputs": [],
   "source": [
    "ratings_dtype = {\n",
    "    'tconst': str,\n",
    "    'averageRating': float,\n",
    "    'numVotes': int\n",
    "}\n",
    "\n",
    "ratings = pd.read_csv('./title.ratings.tsv.gz',\n",
    "                      sep='\\t', header=0, dtype=ratings_dtype)"
   ]
  },
  {
   "cell_type": "code",
   "execution_count": 183,
   "metadata": {},
   "outputs": [
    {
     "data": {
      "text/html": [
       "<div>\n",
       "<style scoped>\n",
       "    .dataframe tbody tr th:only-of-type {\n",
       "        vertical-align: middle;\n",
       "    }\n",
       "\n",
       "    .dataframe tbody tr th {\n",
       "        vertical-align: top;\n",
       "    }\n",
       "\n",
       "    .dataframe thead th {\n",
       "        text-align: right;\n",
       "    }\n",
       "</style>\n",
       "<table border=\"1\" class=\"dataframe\">\n",
       "  <thead>\n",
       "    <tr style=\"text-align: right;\">\n",
       "      <th></th>\n",
       "      <th>tconst</th>\n",
       "      <th>averageRating</th>\n",
       "      <th>numVotes</th>\n",
       "    </tr>\n",
       "  </thead>\n",
       "  <tbody>\n",
       "    <tr>\n",
       "      <th>0</th>\n",
       "      <td>tt0000001</td>\n",
       "      <td>5.8</td>\n",
       "      <td>1383</td>\n",
       "    </tr>\n",
       "    <tr>\n",
       "      <th>1</th>\n",
       "      <td>tt0000002</td>\n",
       "      <td>6.5</td>\n",
       "      <td>162</td>\n",
       "    </tr>\n",
       "    <tr>\n",
       "      <th>2</th>\n",
       "      <td>tt0000003</td>\n",
       "      <td>6.6</td>\n",
       "      <td>971</td>\n",
       "    </tr>\n",
       "    <tr>\n",
       "      <th>3</th>\n",
       "      <td>tt0000004</td>\n",
       "      <td>6.4</td>\n",
       "      <td>98</td>\n",
       "    </tr>\n",
       "    <tr>\n",
       "      <th>4</th>\n",
       "      <td>tt0000005</td>\n",
       "      <td>6.2</td>\n",
       "      <td>1663</td>\n",
       "    </tr>\n",
       "  </tbody>\n",
       "</table>\n",
       "</div>"
      ],
      "text/plain": [
       "      tconst  averageRating  numVotes\n",
       "0  tt0000001            5.8      1383\n",
       "1  tt0000002            6.5       162\n",
       "2  tt0000003            6.6       971\n",
       "3  tt0000004            6.4        98\n",
       "4  tt0000005            6.2      1663"
      ]
     },
     "execution_count": 183,
     "metadata": {},
     "output_type": "execute_result"
    }
   ],
   "source": [
    "ratings.head()"
   ]
  },
  {
   "cell_type": "markdown",
   "metadata": {},
   "source": [
    "Load TSV file containing IMDb rating and votes information for titles:"
   ]
  },
  {
   "cell_type": "code",
   "execution_count": 184,
   "metadata": {},
   "outputs": [],
   "source": [
    "title_dtype = {\n",
    "    'tconst': str,\n",
    "    'titleType': str,\n",
    "    'primaryTitle': str,\n",
    "    'originalTitle': str,\n",
    "    'isAdult': int,\n",
    "    'startYear': str,\n",
    "    'endYear': str,\n",
    "    'runtimeMinutes': object,\n",
    "    'genres': str\n",
    "}\n",
    "\n",
    "title = pd.read_csv('./title.basics.tsv.gz',\n",
    "                    sep='\\t', header=0, dtype=title_dtype)"
   ]
  },
  {
   "cell_type": "code",
   "execution_count": 185,
   "metadata": {},
   "outputs": [
    {
     "data": {
      "text/html": [
       "<div>\n",
       "<style scoped>\n",
       "    .dataframe tbody tr th:only-of-type {\n",
       "        vertical-align: middle;\n",
       "    }\n",
       "\n",
       "    .dataframe tbody tr th {\n",
       "        vertical-align: top;\n",
       "    }\n",
       "\n",
       "    .dataframe thead th {\n",
       "        text-align: right;\n",
       "    }\n",
       "</style>\n",
       "<table border=\"1\" class=\"dataframe\">\n",
       "  <thead>\n",
       "    <tr style=\"text-align: right;\">\n",
       "      <th></th>\n",
       "      <th>tconst</th>\n",
       "      <th>titleType</th>\n",
       "      <th>primaryTitle</th>\n",
       "      <th>originalTitle</th>\n",
       "      <th>isAdult</th>\n",
       "      <th>startYear</th>\n",
       "      <th>endYear</th>\n",
       "      <th>runtimeMinutes</th>\n",
       "      <th>genres</th>\n",
       "    </tr>\n",
       "  </thead>\n",
       "  <tbody>\n",
       "    <tr>\n",
       "      <th>0</th>\n",
       "      <td>tt0000001</td>\n",
       "      <td>short</td>\n",
       "      <td>Carmencita</td>\n",
       "      <td>Carmencita</td>\n",
       "      <td>0</td>\n",
       "      <td>1894</td>\n",
       "      <td>\\N</td>\n",
       "      <td>1</td>\n",
       "      <td>Documentary,Short</td>\n",
       "    </tr>\n",
       "    <tr>\n",
       "      <th>1</th>\n",
       "      <td>tt0000002</td>\n",
       "      <td>short</td>\n",
       "      <td>Le clown et ses chiens</td>\n",
       "      <td>Le clown et ses chiens</td>\n",
       "      <td>0</td>\n",
       "      <td>1892</td>\n",
       "      <td>\\N</td>\n",
       "      <td>5</td>\n",
       "      <td>Animation,Short</td>\n",
       "    </tr>\n",
       "    <tr>\n",
       "      <th>2</th>\n",
       "      <td>tt0000003</td>\n",
       "      <td>short</td>\n",
       "      <td>Pauvre Pierrot</td>\n",
       "      <td>Pauvre Pierrot</td>\n",
       "      <td>0</td>\n",
       "      <td>1892</td>\n",
       "      <td>\\N</td>\n",
       "      <td>4</td>\n",
       "      <td>Animation,Comedy,Romance</td>\n",
       "    </tr>\n",
       "    <tr>\n",
       "      <th>3</th>\n",
       "      <td>tt0000004</td>\n",
       "      <td>short</td>\n",
       "      <td>Un bon bock</td>\n",
       "      <td>Un bon bock</td>\n",
       "      <td>0</td>\n",
       "      <td>1892</td>\n",
       "      <td>\\N</td>\n",
       "      <td>\\N</td>\n",
       "      <td>Animation,Short</td>\n",
       "    </tr>\n",
       "    <tr>\n",
       "      <th>4</th>\n",
       "      <td>tt0000005</td>\n",
       "      <td>short</td>\n",
       "      <td>Blacksmith Scene</td>\n",
       "      <td>Blacksmith Scene</td>\n",
       "      <td>0</td>\n",
       "      <td>1893</td>\n",
       "      <td>\\N</td>\n",
       "      <td>1</td>\n",
       "      <td>Short</td>\n",
       "    </tr>\n",
       "  </tbody>\n",
       "</table>\n",
       "</div>"
      ],
      "text/plain": [
       "      tconst titleType            primaryTitle           originalTitle  \\\n",
       "0  tt0000001     short              Carmencita              Carmencita   \n",
       "1  tt0000002     short  Le clown et ses chiens  Le clown et ses chiens   \n",
       "2  tt0000003     short          Pauvre Pierrot          Pauvre Pierrot   \n",
       "3  tt0000004     short             Un bon bock             Un bon bock   \n",
       "4  tt0000005     short        Blacksmith Scene        Blacksmith Scene   \n",
       "\n",
       "   isAdult startYear endYear runtimeMinutes                    genres  \n",
       "0        0      1894      \\N              1         Documentary,Short  \n",
       "1        0      1892      \\N              5           Animation,Short  \n",
       "2        0      1892      \\N              4  Animation,Comedy,Romance  \n",
       "3        0      1892      \\N             \\N           Animation,Short  \n",
       "4        0      1893      \\N              1                     Short  "
      ]
     },
     "execution_count": 185,
     "metadata": {},
     "output_type": "execute_result"
    }
   ],
   "source": [
    "title.head()"
   ]
  },
  {
   "cell_type": "markdown",
   "metadata": {},
   "source": [
    "What are the types of titles?"
   ]
  },
  {
   "cell_type": "code",
   "execution_count": 186,
   "metadata": {},
   "outputs": [
    {
     "data": {
      "text/plain": [
       "array(['short', 'movie', 'tvMovie', 'tvSeries', 'tvEpisode', 'tvShort',\n",
       "       'tvMiniSeries', 'tvSpecial', 'video', 'videoGame'], dtype=object)"
      ]
     },
     "execution_count": 186,
     "metadata": {},
     "output_type": "execute_result"
    }
   ],
   "source": [
    "title['titleType'].unique()"
   ]
  },
  {
   "cell_type": "markdown",
   "metadata": {},
   "source": [
    "Create variable containing TV series:"
   ]
  },
  {
   "cell_type": "code",
   "execution_count": 187,
   "metadata": {},
   "outputs": [],
   "source": [
    "series = title[title['titleType'] == 'tvSeries']"
   ]
  },
  {
   "cell_type": "code",
   "execution_count": 188,
   "metadata": {},
   "outputs": [
    {
     "data": {
      "text/html": [
       "<div>\n",
       "<style scoped>\n",
       "    .dataframe tbody tr th:only-of-type {\n",
       "        vertical-align: middle;\n",
       "    }\n",
       "\n",
       "    .dataframe tbody tr th {\n",
       "        vertical-align: top;\n",
       "    }\n",
       "\n",
       "    .dataframe thead th {\n",
       "        text-align: right;\n",
       "    }\n",
       "</style>\n",
       "<table border=\"1\" class=\"dataframe\">\n",
       "  <thead>\n",
       "    <tr style=\"text-align: right;\">\n",
       "      <th></th>\n",
       "      <th>tconst</th>\n",
       "      <th>titleType</th>\n",
       "      <th>primaryTitle</th>\n",
       "      <th>originalTitle</th>\n",
       "      <th>isAdult</th>\n",
       "      <th>startYear</th>\n",
       "      <th>endYear</th>\n",
       "      <th>runtimeMinutes</th>\n",
       "      <th>genres</th>\n",
       "    </tr>\n",
       "  </thead>\n",
       "  <tbody>\n",
       "    <tr>\n",
       "      <th>34995</th>\n",
       "      <td>tt0035599</td>\n",
       "      <td>tvSeries</td>\n",
       "      <td>Voice of Firestone Televues</td>\n",
       "      <td>Voice of Firestone Televues</td>\n",
       "      <td>0</td>\n",
       "      <td>1943</td>\n",
       "      <td>1947</td>\n",
       "      <td>15</td>\n",
       "      <td>\\N</td>\n",
       "    </tr>\n",
       "    <tr>\n",
       "      <th>37626</th>\n",
       "      <td>tt0038276</td>\n",
       "      <td>tvSeries</td>\n",
       "      <td>You Are an Artist</td>\n",
       "      <td>You Are an Artist</td>\n",
       "      <td>0</td>\n",
       "      <td>1946</td>\n",
       "      <td>1950</td>\n",
       "      <td>15</td>\n",
       "      <td>\\N</td>\n",
       "    </tr>\n",
       "    <tr>\n",
       "      <th>38460</th>\n",
       "      <td>tt0039120</td>\n",
       "      <td>tvSeries</td>\n",
       "      <td>Americana</td>\n",
       "      <td>Americana</td>\n",
       "      <td>0</td>\n",
       "      <td>1947</td>\n",
       "      <td>1949</td>\n",
       "      <td>30</td>\n",
       "      <td>Family,Game-Show</td>\n",
       "    </tr>\n",
       "    <tr>\n",
       "      <th>38461</th>\n",
       "      <td>tt0039121</td>\n",
       "      <td>tvSeries</td>\n",
       "      <td>Birthday Party</td>\n",
       "      <td>Birthday Party</td>\n",
       "      <td>0</td>\n",
       "      <td>1947</td>\n",
       "      <td>1949</td>\n",
       "      <td>30</td>\n",
       "      <td>Family</td>\n",
       "    </tr>\n",
       "    <tr>\n",
       "      <th>38462</th>\n",
       "      <td>tt0039122</td>\n",
       "      <td>tvSeries</td>\n",
       "      <td>The Borden Show</td>\n",
       "      <td>The Borden Show</td>\n",
       "      <td>0</td>\n",
       "      <td>1947</td>\n",
       "      <td>\\N</td>\n",
       "      <td>30</td>\n",
       "      <td>Comedy,Music</td>\n",
       "    </tr>\n",
       "  </tbody>\n",
       "</table>\n",
       "</div>"
      ],
      "text/plain": [
       "          tconst titleType                 primaryTitle  \\\n",
       "34995  tt0035599  tvSeries  Voice of Firestone Televues   \n",
       "37626  tt0038276  tvSeries            You Are an Artist   \n",
       "38460  tt0039120  tvSeries                    Americana   \n",
       "38461  tt0039121  tvSeries               Birthday Party   \n",
       "38462  tt0039122  tvSeries              The Borden Show   \n",
       "\n",
       "                     originalTitle  isAdult startYear endYear runtimeMinutes  \\\n",
       "34995  Voice of Firestone Televues        0      1943    1947             15   \n",
       "37626            You Are an Artist        0      1946    1950             15   \n",
       "38460                    Americana        0      1947    1949             30   \n",
       "38461               Birthday Party        0      1947    1949             30   \n",
       "38462              The Borden Show        0      1947      \\N             30   \n",
       "\n",
       "                 genres  \n",
       "34995                \\N  \n",
       "37626                \\N  \n",
       "38460  Family,Game-Show  \n",
       "38461            Family  \n",
       "38462      Comedy,Music  "
      ]
     },
     "execution_count": 188,
     "metadata": {},
     "output_type": "execute_result"
    }
   ],
   "source": [
    "series.head()"
   ]
  },
  {
   "cell_type": "markdown",
   "metadata": {},
   "source": [
    "Get all the unique genres the TV series belong to:"
   ]
  },
  {
   "cell_type": "code",
   "execution_count": 189,
   "metadata": {},
   "outputs": [
    {
     "data": {
      "text/plain": [
       "['Horror',\n",
       " 'Biography',\n",
       " 'Short',\n",
       " 'War',\n",
       " 'Sci-Fi',\n",
       " 'Talk-Show',\n",
       " 'Comedy',\n",
       " 'Drama',\n",
       " 'Adult',\n",
       " 'Romance',\n",
       " 'Thriller',\n",
       " 'News',\n",
       " 'Documentary',\n",
       " 'Western',\n",
       " 'Mystery',\n",
       " 'Animation',\n",
       " 'Fantasy',\n",
       " 'Musical',\n",
       " 'Action',\n",
       " 'Adventure',\n",
       " 'Crime',\n",
       " 'Game-Show',\n",
       " 'Reality-TV',\n",
       " 'History',\n",
       " 'Family',\n",
       " 'Sport',\n",
       " 'Music']"
      ]
     },
     "execution_count": 189,
     "metadata": {},
     "output_type": "execute_result"
    }
   ],
   "source": [
    "genres_with_dupes = series['genres'].map(lambda x: [] if x == '\\\\N' else x.split(','))\n",
    "genres_with_dupes_list = [y for x in genres_with_dupes for y in x]\n",
    "genres = list(set(genres_with_dupes_list))\n",
    "genres"
   ]
  },
  {
   "cell_type": "markdown",
   "metadata": {},
   "source": [
    "Set genres column in series dataframe to array of genres:"
   ]
  },
  {
   "cell_type": "code",
   "execution_count": 190,
   "metadata": {},
   "outputs": [
    {
     "data": {
      "text/html": [
       "<div>\n",
       "<style scoped>\n",
       "    .dataframe tbody tr th:only-of-type {\n",
       "        vertical-align: middle;\n",
       "    }\n",
       "\n",
       "    .dataframe tbody tr th {\n",
       "        vertical-align: top;\n",
       "    }\n",
       "\n",
       "    .dataframe thead th {\n",
       "        text-align: right;\n",
       "    }\n",
       "</style>\n",
       "<table border=\"1\" class=\"dataframe\">\n",
       "  <thead>\n",
       "    <tr style=\"text-align: right;\">\n",
       "      <th></th>\n",
       "      <th>tconst</th>\n",
       "      <th>titleType</th>\n",
       "      <th>primaryTitle</th>\n",
       "      <th>originalTitle</th>\n",
       "      <th>isAdult</th>\n",
       "      <th>startYear</th>\n",
       "      <th>endYear</th>\n",
       "      <th>runtimeMinutes</th>\n",
       "      <th>genres</th>\n",
       "    </tr>\n",
       "  </thead>\n",
       "  <tbody>\n",
       "    <tr>\n",
       "      <th>34995</th>\n",
       "      <td>tt0035599</td>\n",
       "      <td>tvSeries</td>\n",
       "      <td>Voice of Firestone Televues</td>\n",
       "      <td>Voice of Firestone Televues</td>\n",
       "      <td>0</td>\n",
       "      <td>1943</td>\n",
       "      <td>1947</td>\n",
       "      <td>15</td>\n",
       "      <td>[]</td>\n",
       "    </tr>\n",
       "    <tr>\n",
       "      <th>37626</th>\n",
       "      <td>tt0038276</td>\n",
       "      <td>tvSeries</td>\n",
       "      <td>You Are an Artist</td>\n",
       "      <td>You Are an Artist</td>\n",
       "      <td>0</td>\n",
       "      <td>1946</td>\n",
       "      <td>1950</td>\n",
       "      <td>15</td>\n",
       "      <td>[]</td>\n",
       "    </tr>\n",
       "    <tr>\n",
       "      <th>38460</th>\n",
       "      <td>tt0039120</td>\n",
       "      <td>tvSeries</td>\n",
       "      <td>Americana</td>\n",
       "      <td>Americana</td>\n",
       "      <td>0</td>\n",
       "      <td>1947</td>\n",
       "      <td>1949</td>\n",
       "      <td>30</td>\n",
       "      <td>[Family, Game-Show]</td>\n",
       "    </tr>\n",
       "    <tr>\n",
       "      <th>38461</th>\n",
       "      <td>tt0039121</td>\n",
       "      <td>tvSeries</td>\n",
       "      <td>Birthday Party</td>\n",
       "      <td>Birthday Party</td>\n",
       "      <td>0</td>\n",
       "      <td>1947</td>\n",
       "      <td>1949</td>\n",
       "      <td>30</td>\n",
       "      <td>[Family]</td>\n",
       "    </tr>\n",
       "    <tr>\n",
       "      <th>38462</th>\n",
       "      <td>tt0039122</td>\n",
       "      <td>tvSeries</td>\n",
       "      <td>The Borden Show</td>\n",
       "      <td>The Borden Show</td>\n",
       "      <td>0</td>\n",
       "      <td>1947</td>\n",
       "      <td>\\N</td>\n",
       "      <td>30</td>\n",
       "      <td>[Comedy, Music]</td>\n",
       "    </tr>\n",
       "  </tbody>\n",
       "</table>\n",
       "</div>"
      ],
      "text/plain": [
       "          tconst titleType                 primaryTitle  \\\n",
       "34995  tt0035599  tvSeries  Voice of Firestone Televues   \n",
       "37626  tt0038276  tvSeries            You Are an Artist   \n",
       "38460  tt0039120  tvSeries                    Americana   \n",
       "38461  tt0039121  tvSeries               Birthday Party   \n",
       "38462  tt0039122  tvSeries              The Borden Show   \n",
       "\n",
       "                     originalTitle  isAdult startYear endYear runtimeMinutes  \\\n",
       "34995  Voice of Firestone Televues        0      1943    1947             15   \n",
       "37626            You Are an Artist        0      1946    1950             15   \n",
       "38460                    Americana        0      1947    1949             30   \n",
       "38461               Birthday Party        0      1947    1949             30   \n",
       "38462              The Borden Show        0      1947      \\N             30   \n",
       "\n",
       "                    genres  \n",
       "34995                   []  \n",
       "37626                   []  \n",
       "38460  [Family, Game-Show]  \n",
       "38461             [Family]  \n",
       "38462      [Comedy, Music]  "
      ]
     },
     "execution_count": 190,
     "metadata": {},
     "output_type": "execute_result"
    }
   ],
   "source": [
    "# To get rid of SettingWithCopyWarning. See https://stackoverflow.com/questions/20625582/how-to-deal-with-settingwithcopywarning-in-pandas\n",
    "series.is_copy = False\n",
    "\n",
    "series['genres'] = genres_with_dupes\n",
    "series.head()"
   ]
  },
  {
   "cell_type": "markdown",
   "metadata": {},
   "source": [
    "We want counts of genres per start year, so let's create a data structure with a form like this:\n",
    "```\n",
    "{\n",
    "  '1947': {\n",
    "    'Action': 92,\n",
    "    'Adult': 11,\n",
    "    'Adventure': 91\n",
    "  }\n",
    "}\n",
    "```"
   ]
  },
  {
   "cell_type": "code",
   "execution_count": 191,
   "metadata": {},
   "outputs": [
    {
     "data": {
      "text/plain": [
       "array(['1894', '1892', '1893', '1895', '1896', '1898', '1897', '1900',\n",
       "       '1899', '1901', '1904', '1903', '1902', '1905', '1912', '1907',\n",
       "       '1906', '1908', '1910', '1909', '1914', '1911', '1913', '1915',\n",
       "       '1919', '1916', '1917', '1918', '1936', '1925', '1920', '1922',\n",
       "       '1921', '1923', '1924', '1928', '1926', '1927', '1929', '1993',\n",
       "       '1935', '1930', '1942', '1933', '1934', '1931', '1939', '1932',\n",
       "       '1950', '1938', '1951', '1937', '1945', '1983', '1946', '1940',\n",
       "       '1944', '1949', '1941', '1952', '1970', '1957', '1943', '1948',\n",
       "       '1959', '2001', '1947', '1953', '1954', '1965', '1973', '1961',\n",
       "       '1995', '1955', '1962', '1958', '1956', '1964', '1960', '1967',\n",
       "       '1968', '1963', '1972', '1969', '1985', '1971', '1966', '1976',\n",
       "       '1986', '1990', '1977', '1979', '1978', '1981', '1988', '1975',\n",
       "       '1974', '1989', '2016', '\\\\N', '1980', '2010', '2018', '1984',\n",
       "       '1982', '1991', '1987', '1992', '1994', '1999', '2005', '1998',\n",
       "       '2002', '1997', '2004', '1996', '2017', '2000', '2009', '2008',\n",
       "       '2003', '2007', '2006', '2012', '2013', '2014', '2011', '2015',\n",
       "       '1891', '2019', '1888', '1890', '2020', '1889', '2022', '2021',\n",
       "       '1887', '1878', '2024', '1874', '2115', '1883', '2025', '2023',\n",
       "       '2026', '1881', '2028', '1885'], dtype=object)"
      ]
     },
     "execution_count": 191,
     "metadata": {},
     "output_type": "execute_result"
    }
   ],
   "source": [
    "start_years = [i for i in title['startYear'].unique() if i != '\\\\N']\n",
    "title['startYear'].unique()"
   ]
  },
  {
   "cell_type": "code",
   "execution_count": 192,
   "metadata": {},
   "outputs": [],
   "source": [
    "def count_genres(year):\n",
    "  matches = series.loc[series['startYear'] == year]\n",
    "  gs = [y for x in matches['genres'] for y in x if y != '\\\\N']\n",
    "  return {x: gs.count(x) for x in gs}\n",
    "\n",
    "genres_by_year = []\n",
    "for yr in start_years:\n",
    "  gc = count_genres(yr)\n",
    "  if bool(gc): genres_by_year.append((yr,gc))"
   ]
  },
  {
   "cell_type": "code",
   "execution_count": 193,
   "metadata": {},
   "outputs": [
    {
     "data": {
      "text/plain": [
       "[('1910', {'News': 1}),\n",
       " ('1916', {'Talk-Show': 1}),\n",
       " ('1936', {'Comedy': 3, 'Family': 1, 'Music': 3, 'Sport': 1, 'Talk-Show': 1}),\n",
       " ('1922', {'News': 1})]"
      ]
     },
     "execution_count": 193,
     "metadata": {},
     "output_type": "execute_result"
    }
   ],
   "source": [
    "genres_by_year[1:5]"
   ]
  },
  {
   "cell_type": "code",
   "execution_count": 194,
   "metadata": {},
   "outputs": [
    {
     "data": {
      "text/plain": [
       "Comedy         36302\n",
       "Drama          23299\n",
       "Documentary    16715\n",
       "Reality-TV     13859\n",
       "Talk-Show      11077\n",
       "dtype: int64"
      ]
     },
     "execution_count": 194,
     "metadata": {},
     "output_type": "execute_result"
    }
   ],
   "source": [
    "genre_ratios = pd.Series(genres_with_dupes_list).value_counts()\n",
    "top_10_genres = genre_ratios[:10].index.values\n",
    "# Flip values\n",
    "# genre_ratios = pd.Series(genre_ratios.index.values, index=genre_ratios)\n",
    "\n",
    "# Pair each genre among the top 10 with a color.\n",
    "hexs = [\"#96ceb4\", \"#ffcc5c\", \"#f9d5e5\", \"#d9ad7c\", \"#87bdd8\",\n",
    "          \"#937860\", \"#7a3b2e\", \"#c1502e\", \"#ff6f69\", \"#ffeead\"]\n",
    "\n",
    "colors = {}\n",
    "for g, c in zip(top_10_genres, hexs):\n",
    "  colors[g] = c\n",
    "\n",
    "genre_ratios.head()"
   ]
  },
  {
   "cell_type": "markdown",
   "metadata": {},
   "source": [
    "### Genre counts across all TV series ever made:"
   ]
  },
  {
   "cell_type": "code",
   "execution_count": 195,
   "metadata": {},
   "outputs": [
    {
     "data": {
      "text/plain": [
       "Text(0.5,1,'Total numbers of series produced across all genres')"
      ]
     },
     "execution_count": 195,
     "metadata": {},
     "output_type": "execute_result"
    },
    {
     "data": {
      "image/png": "[encoded data removed]",
      "text/plain": [
       "<matplotlib.figure.Figure at 0x1ac9dc8c88>"
      ]
     },
     "metadata": {},
     "output_type": "display_data"
    }
   ],
   "source": [
    "sns.set_style(\"whitegrid\", {'axes.grid' : False})\n",
    "\n",
    "d = pd.DataFrame(data={'genre': genres_with_dupes_list})\n",
    "ax = sns.countplot(y='genre', data=d, palette='Set2', order=d['genre'].value_counts().index)\n",
    "plt.title('Total numbers of series produced across all genres')"
   ]
  },
  {
   "cell_type": "markdown",
   "metadata": {},
   "source": [
    "### How have the numbers of series produced in each genre changed over the years?"
   ]
  },
  {
   "cell_type": "code",
   "execution_count": 196,
   "metadata": {},
   "outputs": [
    {
     "data": {
      "image/png": "[encoded data removed]",
      "text/plain": [
       "<matplotlib.figure.Figure at 0x1a122ca7b8>"
      ]
     },
     "metadata": {},
     "output_type": "display_data"
    }
   ],
   "source": [
    "sns.set_style(\"whitegrid\", {'axes.grid' : False})\n",
    "\n",
    "def create_genre_df(genre):\n",
    "  gs = []\n",
    "  for j in genres_by_year:\n",
    "    if genre in j[1] and int(j[0]) > 1980 and int(j[0]) < 2018:\n",
    "      gs.append((j[0], j[1][genre]))\n",
    "\n",
    "  sorted(gs, key=lambda x: int(x[0]))\n",
    "\n",
    "  xs, ys = zip(*gs)\n",
    "\n",
    "  df = pd.DataFrame({'Years': pd.Series(xs), genre: pd.Series(ys)})\n",
    "  df['Years'] = pd.to_datetime(df['Years'])\n",
    "  df = df.sort_values(by='Years')\n",
    "\n",
    "  return df\n",
    "\n",
    "dfs = [(genre, create_genre_df(genre)) for genre in top_10_genres]\n",
    "\n",
    "fig = plt.figure()\n",
    "\n",
    "for genre, frame in dfs:\n",
    "    plt.plot(frame['Years'], frame[genre], color = colors[genre])\n",
    "\n",
    "plt.legend()\n",
    "plt.title('Numbers of series produced over the years for the top 10 genres')\n",
    "plt.show()"
   ]
  },
  {
   "cell_type": "markdown",
   "metadata": {},
   "source": [
    "### What are the percentages of TV Genres over the years?"
   ]
  },
  {
   "cell_type": "markdown",
   "metadata": {},
   "source": [
    "Create data frame of genres in long form:"
   ]
  },
  {
   "cell_type": "code",
   "execution_count": 197,
   "metadata": {},
   "outputs": [
    {
     "data": {
      "text/html": [
       "<div>\n",
       "<style scoped>\n",
       "    .dataframe tbody tr th:only-of-type {\n",
       "        vertical-align: middle;\n",
       "    }\n",
       "\n",
       "    .dataframe tbody tr th {\n",
       "        vertical-align: top;\n",
       "    }\n",
       "\n",
       "    .dataframe thead th {\n",
       "        text-align: right;\n",
       "    }\n",
       "</style>\n",
       "<table border=\"1\" class=\"dataframe\">\n",
       "  <thead>\n",
       "    <tr style=\"text-align: right;\">\n",
       "      <th></th>\n",
       "      <th>genres</th>\n",
       "      <th>startYear</th>\n",
       "    </tr>\n",
       "  </thead>\n",
       "  <tbody>\n",
       "    <tr>\n",
       "      <th>174041</th>\n",
       "      <td>Talk-Show</td>\n",
       "      <td>2018</td>\n",
       "    </tr>\n",
       "    <tr>\n",
       "      <th>174042</th>\n",
       "      <td>Documentary</td>\n",
       "      <td>2018</td>\n",
       "    </tr>\n",
       "    <tr>\n",
       "      <th>174043</th>\n",
       "      <td>Sci-Fi</td>\n",
       "      <td>2019</td>\n",
       "    </tr>\n",
       "    <tr>\n",
       "      <th>174044</th>\n",
       "      <td>Adult</td>\n",
       "      <td>2005</td>\n",
       "    </tr>\n",
       "    <tr>\n",
       "      <th>174045</th>\n",
       "      <td>Crime</td>\n",
       "      <td>2018</td>\n",
       "    </tr>\n",
       "  </tbody>\n",
       "</table>\n",
       "</div>"
      ],
      "text/plain": [
       "             genres startYear\n",
       "174041    Talk-Show      2018\n",
       "174042  Documentary      2018\n",
       "174043       Sci-Fi      2019\n",
       "174044        Adult      2005\n",
       "174045        Crime      2018"
      ]
     },
     "execution_count": 197,
     "metadata": {},
     "output_type": "execute_result"
    }
   ],
   "source": [
    "df1 = series[['startYear', 'genres']].dropna(subset=['startYear'])\n",
    "df1 = df1[df1['startYear'] != '\\\\N']\n",
    "pd.to_numeric(df1['startYear'])\n",
    "df1 = pd.DataFrame(df1['genres'].tolist(), index=df1['startYear']).stack().reset_index(name='genres')[['genres','startYear']]\n",
    "df1.tail()"
   ]
  },
  {
   "cell_type": "code",
   "execution_count": 198,
   "metadata": {},
   "outputs": [
    {
     "data": {
      "image/png": "[encoded data removed]",
      "text/plain": [
       "<matplotlib.figure.Figure at 0x1a8cea4b38>"
      ]
     },
     "metadata": {},
     "output_type": "display_data"
    }
   ],
   "source": [
    "df1['startYear'] = pd.to_numeric(df1['startYear'])\n",
    "df1 = df1[df1['startYear'] > 1989]\n",
    "df1 = df1[df1['startYear'] < 2018]\n",
    "df1 = df1[df1['genres'].isin(top_10_genres)]\n",
    "\n",
    "props = lambda key: {'color': colors[key[1]]}\n",
    "ax, _ = mosaic(df1.sort_values('startYear'), ['startYear', 'genres'], label_rotation=(90,0),\n",
    "              labelizer=(lambda _: ''), properties=props, title='Percentages of series made in each genre')\n",
    "\n",
    "plt.show()"
   ]
  },
  {
   "cell_type": "markdown",
   "metadata": {},
   "source": [
    "## Running Years of TV Series\n",
    "\n",
    "Figure out the series that we know ran to completion and their durations:"
   ]
  },
  {
   "cell_type": "code",
   "execution_count": 199,
   "metadata": {},
   "outputs": [
    {
     "data": {
      "text/html": [
       "<div>\n",
       "<style scoped>\n",
       "    .dataframe tbody tr th:only-of-type {\n",
       "        vertical-align: middle;\n",
       "    }\n",
       "\n",
       "    .dataframe tbody tr th {\n",
       "        vertical-align: top;\n",
       "    }\n",
       "\n",
       "    .dataframe thead th {\n",
       "        text-align: right;\n",
       "    }\n",
       "</style>\n",
       "<table border=\"1\" class=\"dataframe\">\n",
       "  <thead>\n",
       "    <tr style=\"text-align: right;\">\n",
       "      <th></th>\n",
       "      <th>tconst</th>\n",
       "      <th>titleType</th>\n",
       "      <th>primaryTitle</th>\n",
       "      <th>originalTitle</th>\n",
       "      <th>isAdult</th>\n",
       "      <th>startYear</th>\n",
       "      <th>endYear</th>\n",
       "      <th>runtimeMinutes</th>\n",
       "      <th>genres</th>\n",
       "      <th>runningYears</th>\n",
       "    </tr>\n",
       "  </thead>\n",
       "  <tbody>\n",
       "    <tr>\n",
       "      <th>34995</th>\n",
       "      <td>tt0035599</td>\n",
       "      <td>tvSeries</td>\n",
       "      <td>Voice of Firestone Televues</td>\n",
       "      <td>Voice of Firestone Televues</td>\n",
       "      <td>0</td>\n",
       "      <td>1943</td>\n",
       "      <td>1947</td>\n",
       "      <td>15</td>\n",
       "      <td>[]</td>\n",
       "      <td>4</td>\n",
       "    </tr>\n",
       "    <tr>\n",
       "      <th>37626</th>\n",
       "      <td>tt0038276</td>\n",
       "      <td>tvSeries</td>\n",
       "      <td>You Are an Artist</td>\n",
       "      <td>You Are an Artist</td>\n",
       "      <td>0</td>\n",
       "      <td>1946</td>\n",
       "      <td>1950</td>\n",
       "      <td>15</td>\n",
       "      <td>[]</td>\n",
       "      <td>4</td>\n",
       "    </tr>\n",
       "    <tr>\n",
       "      <th>38460</th>\n",
       "      <td>tt0039120</td>\n",
       "      <td>tvSeries</td>\n",
       "      <td>Americana</td>\n",
       "      <td>Americana</td>\n",
       "      <td>0</td>\n",
       "      <td>1947</td>\n",
       "      <td>1949</td>\n",
       "      <td>30</td>\n",
       "      <td>[Family, Game-Show]</td>\n",
       "      <td>2</td>\n",
       "    </tr>\n",
       "    <tr>\n",
       "      <th>38461</th>\n",
       "      <td>tt0039121</td>\n",
       "      <td>tvSeries</td>\n",
       "      <td>Birthday Party</td>\n",
       "      <td>Birthday Party</td>\n",
       "      <td>0</td>\n",
       "      <td>1947</td>\n",
       "      <td>1949</td>\n",
       "      <td>30</td>\n",
       "      <td>[Family]</td>\n",
       "      <td>2</td>\n",
       "    </tr>\n",
       "    <tr>\n",
       "      <th>38463</th>\n",
       "      <td>tt0039123</td>\n",
       "      <td>tvSeries</td>\n",
       "      <td>Kraft Theatre</td>\n",
       "      <td>Kraft Television Theatre</td>\n",
       "      <td>0</td>\n",
       "      <td>1947</td>\n",
       "      <td>1958</td>\n",
       "      <td>60</td>\n",
       "      <td>[Drama]</td>\n",
       "      <td>11</td>\n",
       "    </tr>\n",
       "  </tbody>\n",
       "</table>\n",
       "</div>"
      ],
      "text/plain": [
       "          tconst titleType                 primaryTitle  \\\n",
       "34995  tt0035599  tvSeries  Voice of Firestone Televues   \n",
       "37626  tt0038276  tvSeries            You Are an Artist   \n",
       "38460  tt0039120  tvSeries                    Americana   \n",
       "38461  tt0039121  tvSeries               Birthday Party   \n",
       "38463  tt0039123  tvSeries                Kraft Theatre   \n",
       "\n",
       "                     originalTitle  isAdult startYear endYear runtimeMinutes  \\\n",
       "34995  Voice of Firestone Televues        0      1943    1947             15   \n",
       "37626            You Are an Artist        0      1946    1950             15   \n",
       "38460                    Americana        0      1947    1949             30   \n",
       "38461               Birthday Party        0      1947    1949             30   \n",
       "38463     Kraft Television Theatre        0      1947    1958             60   \n",
       "\n",
       "                    genres  runningYears  \n",
       "34995                   []             4  \n",
       "37626                   []             4  \n",
       "38460  [Family, Game-Show]             2  \n",
       "38461             [Family]             2  \n",
       "38463              [Drama]            11  "
      ]
     },
     "execution_count": 199,
     "metadata": {},
     "output_type": "execute_result"
    }
   ],
   "source": [
    "df = series[series['startYear'] != '\\\\N']\n",
    "df = df[df['endYear'] != '\\\\N']\n",
    "df = df.dropna(subset=['startYear', 'endYear', 'primaryTitle'], how='any')\n",
    "df['runningYears'] = pd.to_numeric(df['endYear']) - pd.to_numeric(df['startYear'])\n",
    "df.head()"
   ]
  },
  {
   "cell_type": "markdown",
   "metadata": {},
   "source": [
    "### What are the average running years for genres?"
   ]
  },
  {
   "cell_type": "code",
   "execution_count": 200,
   "metadata": {},
   "outputs": [],
   "source": [
    "sns.set_style(\"darkgrid\", {'axes.grid' : True})\n",
    "\n",
    "def plot_genre_average(df, col_to_avg, x_label, y_label):\n",
    "  vals_to_avg = []\n",
    "\n",
    "  for g in genres:\n",
    "    f = df[df.genres.apply(lambda x: g in x)]\n",
    "    vals_to_avg.append((g, f[col_to_avg].mean()))\n",
    "\n",
    "    xs, ys = zip(*vals_to_avg)\n",
    "\n",
    "  d = pd.DataFrame(data={y_label: xs, x_label: ys})\n",
    "  d = d.sort_values(by=[x_label], ascending=False)\n",
    "\n",
    "  ax = sns.barplot(y=y_label, x=x_label, data=d)\n",
    "  ax.set(xlim=(0, 10))\n",
    "  ax.xaxis.set_major_locator(ticker.MultipleLocator(1))"
   ]
  },
  {
   "cell_type": "code",
   "execution_count": 201,
   "metadata": {},
   "outputs": [
    {
     "data": {
      "image/png": "[encoded data removed]",
      "text/plain": [
       "<matplotlib.figure.Figure at 0x1a0e44c978>"
      ]
     },
     "metadata": {},
     "output_type": "display_data"
    }
   ],
   "source": [
    "plot_genre_average(df, 'runningYears', 'Running Years', 'Genre')"
   ]
  },
  {
   "cell_type": "markdown",
   "metadata": {},
   "source": [
    "### What are the average ratings for genres?\n",
    "First, let's add ratings information to TV series:"
   ]
  },
  {
   "cell_type": "code",
   "execution_count": 202,
   "metadata": {},
   "outputs": [
    {
     "data": {
      "text/html": [
       "<div>\n",
       "<style scoped>\n",
       "    .dataframe tbody tr th:only-of-type {\n",
       "        vertical-align: middle;\n",
       "    }\n",
       "\n",
       "    .dataframe tbody tr th {\n",
       "        vertical-align: top;\n",
       "    }\n",
       "\n",
       "    .dataframe thead th {\n",
       "        text-align: right;\n",
       "    }\n",
       "</style>\n",
       "<table border=\"1\" class=\"dataframe\">\n",
       "  <thead>\n",
       "    <tr style=\"text-align: right;\">\n",
       "      <th></th>\n",
       "      <th>tconst</th>\n",
       "      <th>titleType</th>\n",
       "      <th>primaryTitle</th>\n",
       "      <th>originalTitle</th>\n",
       "      <th>isAdult</th>\n",
       "      <th>startYear</th>\n",
       "      <th>endYear</th>\n",
       "      <th>runtimeMinutes</th>\n",
       "      <th>genres</th>\n",
       "      <th>averageRating</th>\n",
       "      <th>numVotes</th>\n",
       "    </tr>\n",
       "  </thead>\n",
       "  <tbody>\n",
       "    <tr>\n",
       "      <th>2</th>\n",
       "      <td>tt0039120</td>\n",
       "      <td>tvSeries</td>\n",
       "      <td>Americana</td>\n",
       "      <td>Americana</td>\n",
       "      <td>0.0</td>\n",
       "      <td>1947</td>\n",
       "      <td>1949</td>\n",
       "      <td>30</td>\n",
       "      <td>[Family, Game-Show]</td>\n",
       "      <td>3.7</td>\n",
       "      <td>6.0</td>\n",
       "    </tr>\n",
       "    <tr>\n",
       "      <th>5</th>\n",
       "      <td>tt0039123</td>\n",
       "      <td>tvSeries</td>\n",
       "      <td>Kraft Theatre</td>\n",
       "      <td>Kraft Television Theatre</td>\n",
       "      <td>0.0</td>\n",
       "      <td>1947</td>\n",
       "      <td>1958</td>\n",
       "      <td>60</td>\n",
       "      <td>[Drama]</td>\n",
       "      <td>8.5</td>\n",
       "      <td>108.0</td>\n",
       "    </tr>\n",
       "    <tr>\n",
       "      <th>7</th>\n",
       "      <td>tt0039125</td>\n",
       "      <td>tvSeries</td>\n",
       "      <td>Public Prosecutor</td>\n",
       "      <td>Public Prosecutor</td>\n",
       "      <td>0.0</td>\n",
       "      <td>1947</td>\n",
       "      <td>1951</td>\n",
       "      <td>20</td>\n",
       "      <td>[Crime, Drama, Mystery]</td>\n",
       "      <td>5.9</td>\n",
       "      <td>7.0</td>\n",
       "    </tr>\n",
       "    <tr>\n",
       "      <th>8</th>\n",
       "      <td>tt0040021</td>\n",
       "      <td>tvSeries</td>\n",
       "      <td>Actor's Studio</td>\n",
       "      <td>Actor's Studio</td>\n",
       "      <td>0.0</td>\n",
       "      <td>1948</td>\n",
       "      <td>1950</td>\n",
       "      <td>30</td>\n",
       "      <td>[Drama]</td>\n",
       "      <td>7.1</td>\n",
       "      <td>48.0</td>\n",
       "    </tr>\n",
       "    <tr>\n",
       "      <th>15</th>\n",
       "      <td>tt0040028</td>\n",
       "      <td>tvSeries</td>\n",
       "      <td>Talent Scouts</td>\n",
       "      <td>Talent Scouts</td>\n",
       "      <td>0.0</td>\n",
       "      <td>1948</td>\n",
       "      <td>1958</td>\n",
       "      <td>30</td>\n",
       "      <td>[Comedy, Family, Music]</td>\n",
       "      <td>6.1</td>\n",
       "      <td>11.0</td>\n",
       "    </tr>\n",
       "  </tbody>\n",
       "</table>\n",
       "</div>"
      ],
      "text/plain": [
       "       tconst titleType       primaryTitle             originalTitle  isAdult  \\\n",
       "2   tt0039120  tvSeries          Americana                 Americana      0.0   \n",
       "5   tt0039123  tvSeries      Kraft Theatre  Kraft Television Theatre      0.0   \n",
       "7   tt0039125  tvSeries  Public Prosecutor         Public Prosecutor      0.0   \n",
       "8   tt0040021  tvSeries     Actor's Studio            Actor's Studio      0.0   \n",
       "15  tt0040028  tvSeries      Talent Scouts             Talent Scouts      0.0   \n",
       "\n",
       "   startYear endYear runtimeMinutes                   genres  averageRating  \\\n",
       "2       1947    1949             30      [Family, Game-Show]            3.7   \n",
       "5       1947    1958             60                  [Drama]            8.5   \n",
       "7       1947    1951             20  [Crime, Drama, Mystery]            5.9   \n",
       "8       1948    1950             30                  [Drama]            7.1   \n",
       "15      1948    1958             30  [Comedy, Family, Music]            6.1   \n",
       "\n",
       "    numVotes  \n",
       "2        6.0  \n",
       "5      108.0  \n",
       "7        7.0  \n",
       "8       48.0  \n",
       "15      11.0  "
      ]
     },
     "execution_count": 202,
     "metadata": {},
     "output_type": "execute_result"
    }
   ],
   "source": [
    "series_with_ratings = pd.merge(series, ratings, how='outer', on=['tconst'])\n",
    "# Drop rows that do not have a genre or rating\n",
    "series_with_ratings = series_with_ratings.dropna(subset=['genres', 'averageRating'], how='any')\n",
    "series_with_ratings.head()"
   ]
  },
  {
   "cell_type": "markdown",
   "metadata": {},
   "source": [
    "### Average Genre Ratings\n",
    "\n",
    "Calculate average ratings for each genre:"
   ]
  },
  {
   "cell_type": "code",
   "execution_count": 203,
   "metadata": {},
   "outputs": [
    {
     "data": {
      "image/png": "[encoded data removed]",
      "text/plain": [
       "<matplotlib.figure.Figure at 0x1a1a05bac8>"
      ]
     },
     "metadata": {},
     "output_type": "display_data"
    }
   ],
   "source": [
    "plot_genre_average(series_with_ratings, 'averageRating', 'Rating', 'Genre')"
   ]
  }
 ],
 "metadata": {
  "kernelspec": {
   "display_name": "Python 3",
   "language": "python",
   "name": "python3"
  },
  "language_info": {
   "codemirror_mode": {
    "name": "ipython",
    "version": 3
   },
   "file_extension": ".py",
   "mimetype": "text/x-python",
   "name": "python",
   "nbconvert_exporter": "python",
   "pygments_lexer": "ipython3",
   "version": "3.6.4"
  }
 },
 "nbformat": 4,
 "nbformat_minor": 2
}
